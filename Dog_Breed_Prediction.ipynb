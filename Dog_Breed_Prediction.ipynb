{
  "nbformat": 4,
  "nbformat_minor": 0,
  "metadata": {
    "colab": {
      "provenance": [],
      "collapsed_sections": []
    },
    "kernelspec": {
      "display_name": "Python 3",
      "name": "python3"
    },
    "accelerator": "GPU"
  },
  "cells": [
    {
      "cell_type": "markdown",
      "metadata": {
        "id": "dFONdRncx8Cr"
      },
      "source": [
        "## Dog Breed Prediction"
      ]
    },
    {
      "cell_type": "markdown",
      "metadata": {
        "id": "MQoHS1rtx4xJ"
      },
      "source": [
        "Use Keras and TensorFlow to build, train, and test a Convolutional Neural Network capable of identifying the breed of a dog in a supplied image. This is a supervised learning problem, specifically a multiclass classification problem."
      ]
    },
    {
      "cell_type": "code",
      "metadata": {
        "id": "IJfUukN_kiEx",
        "colab": {
          "base_uri": "https://localhost:8080/",
          "height": 90
        },
        "outputId": "987107eb-604c-495c-9002-fd2e0637b0b9"
      },
      "source": [
        "# Run this cell and select the kaggle.json file downloaded\n",
        "# from the Kaggle account settings page.\n",
        "from google.colab import files\n",
        "files.upload()"
      ],
      "execution_count": 10,
      "outputs": [
        {
          "output_type": "display_data",
          "data": {
            "text/plain": [
              "<IPython.core.display.HTML object>"
            ],
            "text/html": [
              "\n",
              "     <input type=\"file\" id=\"files-08dccf8b-770f-4306-afc9-b84cb21f89d2\" name=\"files[]\" multiple disabled\n",
              "        style=\"border:none\" />\n",
              "     <output id=\"result-08dccf8b-770f-4306-afc9-b84cb21f89d2\">\n",
              "      Upload widget is only available when the cell has been executed in the\n",
              "      current browser session. Please rerun this cell to enable.\n",
              "      </output>\n",
              "      <script>// Copyright 2017 Google LLC\n",
              "//\n",
              "// Licensed under the Apache License, Version 2.0 (the \"License\");\n",
              "// you may not use this file except in compliance with the License.\n",
              "// You may obtain a copy of the License at\n",
              "//\n",
              "//      http://www.apache.org/licenses/LICENSE-2.0\n",
              "//\n",
              "// Unless required by applicable law or agreed to in writing, software\n",
              "// distributed under the License is distributed on an \"AS IS\" BASIS,\n",
              "// WITHOUT WARRANTIES OR CONDITIONS OF ANY KIND, either express or implied.\n",
              "// See the License for the specific language governing permissions and\n",
              "// limitations under the License.\n",
              "\n",
              "/**\n",
              " * @fileoverview Helpers for google.colab Python module.\n",
              " */\n",
              "(function(scope) {\n",
              "function span(text, styleAttributes = {}) {\n",
              "  const element = document.createElement('span');\n",
              "  element.textContent = text;\n",
              "  for (const key of Object.keys(styleAttributes)) {\n",
              "    element.style[key] = styleAttributes[key];\n",
              "  }\n",
              "  return element;\n",
              "}\n",
              "\n",
              "// Max number of bytes which will be uploaded at a time.\n",
              "const MAX_PAYLOAD_SIZE = 100 * 1024;\n",
              "\n",
              "function _uploadFiles(inputId, outputId) {\n",
              "  const steps = uploadFilesStep(inputId, outputId);\n",
              "  const outputElement = document.getElementById(outputId);\n",
              "  // Cache steps on the outputElement to make it available for the next call\n",
              "  // to uploadFilesContinue from Python.\n",
              "  outputElement.steps = steps;\n",
              "\n",
              "  return _uploadFilesContinue(outputId);\n",
              "}\n",
              "\n",
              "// This is roughly an async generator (not supported in the browser yet),\n",
              "// where there are multiple asynchronous steps and the Python side is going\n",
              "// to poll for completion of each step.\n",
              "// This uses a Promise to block the python side on completion of each step,\n",
              "// then passes the result of the previous step as the input to the next step.\n",
              "function _uploadFilesContinue(outputId) {\n",
              "  const outputElement = document.getElementById(outputId);\n",
              "  const steps = outputElement.steps;\n",
              "\n",
              "  const next = steps.next(outputElement.lastPromiseValue);\n",
              "  return Promise.resolve(next.value.promise).then((value) => {\n",
              "    // Cache the last promise value to make it available to the next\n",
              "    // step of the generator.\n",
              "    outputElement.lastPromiseValue = value;\n",
              "    return next.value.response;\n",
              "  });\n",
              "}\n",
              "\n",
              "/**\n",
              " * Generator function which is called between each async step of the upload\n",
              " * process.\n",
              " * @param {string} inputId Element ID of the input file picker element.\n",
              " * @param {string} outputId Element ID of the output display.\n",
              " * @return {!Iterable<!Object>} Iterable of next steps.\n",
              " */\n",
              "function* uploadFilesStep(inputId, outputId) {\n",
              "  const inputElement = document.getElementById(inputId);\n",
              "  inputElement.disabled = false;\n",
              "\n",
              "  const outputElement = document.getElementById(outputId);\n",
              "  outputElement.innerHTML = '';\n",
              "\n",
              "  const pickedPromise = new Promise((resolve) => {\n",
              "    inputElement.addEventListener('change', (e) => {\n",
              "      resolve(e.target.files);\n",
              "    });\n",
              "  });\n",
              "\n",
              "  const cancel = document.createElement('button');\n",
              "  inputElement.parentElement.appendChild(cancel);\n",
              "  cancel.textContent = 'Cancel upload';\n",
              "  const cancelPromise = new Promise((resolve) => {\n",
              "    cancel.onclick = () => {\n",
              "      resolve(null);\n",
              "    };\n",
              "  });\n",
              "\n",
              "  // Wait for the user to pick the files.\n",
              "  const files = yield {\n",
              "    promise: Promise.race([pickedPromise, cancelPromise]),\n",
              "    response: {\n",
              "      action: 'starting',\n",
              "    }\n",
              "  };\n",
              "\n",
              "  cancel.remove();\n",
              "\n",
              "  // Disable the input element since further picks are not allowed.\n",
              "  inputElement.disabled = true;\n",
              "\n",
              "  if (!files) {\n",
              "    return {\n",
              "      response: {\n",
              "        action: 'complete',\n",
              "      }\n",
              "    };\n",
              "  }\n",
              "\n",
              "  for (const file of files) {\n",
              "    const li = document.createElement('li');\n",
              "    li.append(span(file.name, {fontWeight: 'bold'}));\n",
              "    li.append(span(\n",
              "        `(${file.type || 'n/a'}) - ${file.size} bytes, ` +\n",
              "        `last modified: ${\n",
              "            file.lastModifiedDate ? file.lastModifiedDate.toLocaleDateString() :\n",
              "                                    'n/a'} - `));\n",
              "    const percent = span('0% done');\n",
              "    li.appendChild(percent);\n",
              "\n",
              "    outputElement.appendChild(li);\n",
              "\n",
              "    const fileDataPromise = new Promise((resolve) => {\n",
              "      const reader = new FileReader();\n",
              "      reader.onload = (e) => {\n",
              "        resolve(e.target.result);\n",
              "      };\n",
              "      reader.readAsArrayBuffer(file);\n",
              "    });\n",
              "    // Wait for the data to be ready.\n",
              "    let fileData = yield {\n",
              "      promise: fileDataPromise,\n",
              "      response: {\n",
              "        action: 'continue',\n",
              "      }\n",
              "    };\n",
              "\n",
              "    // Use a chunked sending to avoid message size limits. See b/62115660.\n",
              "    let position = 0;\n",
              "    do {\n",
              "      const length = Math.min(fileData.byteLength - position, MAX_PAYLOAD_SIZE);\n",
              "      const chunk = new Uint8Array(fileData, position, length);\n",
              "      position += length;\n",
              "\n",
              "      const base64 = btoa(String.fromCharCode.apply(null, chunk));\n",
              "      yield {\n",
              "        response: {\n",
              "          action: 'append',\n",
              "          file: file.name,\n",
              "          data: base64,\n",
              "        },\n",
              "      };\n",
              "\n",
              "      let percentDone = fileData.byteLength === 0 ?\n",
              "          100 :\n",
              "          Math.round((position / fileData.byteLength) * 100);\n",
              "      percent.textContent = `${percentDone}% done`;\n",
              "\n",
              "    } while (position < fileData.byteLength);\n",
              "  }\n",
              "\n",
              "  // All done.\n",
              "  yield {\n",
              "    response: {\n",
              "      action: 'complete',\n",
              "    }\n",
              "  };\n",
              "}\n",
              "\n",
              "scope.google = scope.google || {};\n",
              "scope.google.colab = scope.google.colab || {};\n",
              "scope.google.colab._files = {\n",
              "  _uploadFiles,\n",
              "  _uploadFilesContinue,\n",
              "};\n",
              "})(self);\n",
              "</script> "
            ]
          },
          "metadata": {}
        },
        {
          "output_type": "stream",
          "name": "stdout",
          "text": [
            "Saving kaggle.json to kaggle (1).json\n"
          ]
        },
        {
          "output_type": "execute_result",
          "data": {
            "text/plain": [
              "{'kaggle.json': b'{\"username\":\"nitinsoni1\",\"key\":\"c75827b8e2bd99ac2891f31981ad3dc3\"}'}"
            ]
          },
          "metadata": {},
          "execution_count": 10
        }
      ]
    },
    {
      "cell_type": "markdown",
      "metadata": {
        "id": "t3qAYHiDC_Z-"
      },
      "source": [
        "We will start by connecting to Kaggle using Kaggle API which can be downloaded from your Kaggle account's settings and uploading it here(upload box)."
      ]
    },
    {
      "cell_type": "code",
      "metadata": {
        "id": "m34QitafPDd5"
      },
      "source": [
        " install the Kaggle API client.\n",
        "!pip install -q kaggle"
      ],
      "execution_count": 11,
      "outputs": []
    },
    {
      "cell_type": "code",
      "metadata": {
        "id": "1js5PPVFPm-P"
      },
      "source": [
        "# The Kaggle API client expects this file to be in ~/.kaggle, so move it there.\n",
        "!mkdir -p ~/.kaggle\n",
        "!cp kaggle.json ~/.kaggle/\n",
        "\n",
        "# This permissions change avoids a warning on Kaggle tool startup.\n",
        "!chmod 600 ~/.kaggle/kaggle.json"
      ],
      "execution_count": 12,
      "outputs": []
    },
    {
      "cell_type": "markdown",
      "metadata": {
        "id": "jieIhBTXEO5B"
      },
      "source": [
        "Setting up Kaggle using Kaggle API."
      ]
    },
    {
      "cell_type": "code",
      "metadata": {
        "id": "F7hxbrceg3bC",
        "colab": {
          "base_uri": "https://localhost:8080/"
        },
        "outputId": "7230633d-5645-41cf-a147-4d9b13b3e2f6"
      },
      "source": [
        "# Creating directory and changing the current working directory\n",
        "!mkdir dog_dataset\n",
        "%cd dog_dataset"
      ],
      "execution_count": 13,
      "outputs": [
        {
          "output_type": "stream",
          "name": "stdout",
          "text": [
            "mkdir: cannot create directory ‘dog_dataset’: File exists\n",
            "/content/dog_dataset\n"
          ]
        }
      ]
    },
    {
      "cell_type": "markdown",
      "metadata": {
        "id": "wDLPCNfIEapm"
      },
      "source": [
        "To store the data we will create a new directory and make it as current working directory."
      ]
    },
    {
      "cell_type": "code",
      "metadata": {
        "id": "wi9hi_O7vEC-",
        "colab": {
          "base_uri": "https://localhost:8080/"
        },
        "outputId": "d2172643-0671-47c2-d88f-e908e6b9c9c7"
      },
      "source": [
        "# Searching for dataset\n",
        "!kaggle datasets list -s dogbreedidfromcomp"
      ],
      "execution_count": 14,
      "outputs": [
        {
          "output_type": "stream",
          "name": "stdout",
          "text": [
            "ref                                title                    size  lastUpdated          downloadCount  voteCount  usabilityRating  \n",
            "---------------------------------  ----------------------  -----  -------------------  -------------  ---------  ---------------  \n",
            "catherinehorng/dogbreedidfromcomp  dog-breed-id-from-comp  691MB  2020-06-26 03:09:05           1807          6  0.1764706        \n"
          ]
        }
      ]
    },
    {
      "cell_type": "code",
      "metadata": {
        "id": "7U0drGHjfPyY",
        "colab": {
          "base_uri": "https://localhost:8080/"
        },
        "outputId": "af0cd37b-e0d4-4b19-b46c-5ae99feab4e8"
      },
      "source": [
        "# Downloading dataset and coming out of directory\n",
        "!kaggle datasets download catherinehorng/dogbreedidfromcomp\n",
        "%cd .."
      ],
      "execution_count": 15,
      "outputs": [
        {
          "output_type": "stream",
          "name": "stdout",
          "text": [
            "Downloading dogbreedidfromcomp.zip to /content/dog_dataset\n",
            " 96% 665M/691M [00:04<00:00, 234MB/s]\n",
            "100% 691M/691M [00:04<00:00, 171MB/s]\n",
            "/content\n"
          ]
        }
      ]
    },
    {
      "cell_type": "code",
      "metadata": {
        "id": "_G_S6-F1Qs-U",
        "colab": {
          "base_uri": "https://localhost:8080/"
        },
        "outputId": "0ed95a87-9ceb-41c3-b601-0109f4ab3404"
      },
      "source": [
        "# Unzipping downloaded file and removing unusable file\n",
        "!unzip dog_dataset/dogbreedidfromcomp.zip -d dog_dataset\n",
        "!rm dog_dataset/dogbreedidfromcomp.zip\n",
        "!rm dog_dataset/sample_submission.csv"
      ],
      "execution_count": 16,
      "outputs": [
        {
          "output_type": "stream",
          "name": "stdout",
          "text": [
            "Archive:  dog_dataset/dogbreedidfromcomp.zip\n",
            "replace dog_dataset/labels.csv? [y]es, [n]o, [A]ll, [N]one, [r]ename: No\n",
            "  inflating: dog_dataset/sample_submission.csv  \n"
          ]
        }
      ]
    },
    {
      "cell_type": "code",
      "metadata": {
        "id": "Ko_oKFfpvj8A"
      },
      "source": [
        "# Important library imports\n",
        "import numpy as np \n",
        "import pandas as pd \n",
        "import matplotlib.pyplot as plt\n",
        "\n",
        "from tqdm import tqdm\n",
        "from keras.preprocessing import image\n",
        "from sklearn.preprocessing import label_binarize\n",
        "from sklearn.model_selection import train_test_split\n",
        "from keras.models import Sequential\n",
        "from keras.layers import Dense, Dropout, Flatten, Conv2D, MaxPool2D\n",
        "from tensorflow.keras.optimizers import Adam"
      ],
      "execution_count": 17,
      "outputs": []
    },
    {
      "cell_type": "markdown",
      "metadata": {
        "id": "K83AVkzUGFQP"
      },
      "source": [
        "Importing required libraries."
      ]
    },
    {
      "cell_type": "code",
      "metadata": {
        "id": "vrZIWCO4wEFn",
        "colab": {
          "base_uri": "https://localhost:8080/",
          "height": 224
        },
        "outputId": "36bae694-b620-4a4e-c565-27b8f5d0ffac"
      },
      "source": [
        "# Read the labels.csv file and checking shape and records\n",
        "labels_all = pd.read_csv(\"dog_dataset/labels.csv\")\n",
        "print(labels_all.shape)\n",
        "labels_all.head()"
      ],
      "execution_count": 18,
      "outputs": [
        {
          "output_type": "stream",
          "name": "stdout",
          "text": [
            "(10222, 2)\n"
          ]
        },
        {
          "output_type": "execute_result",
          "data": {
            "text/plain": [
              "                                 id             breed\n",
              "0  000bec180eb18c7604dcecc8fe0dba07       boston_bull\n",
              "1  001513dfcb2ffafc82cccf4d8bbaba97             dingo\n",
              "2  001cdf01b096e06d78e9e5112d419397          pekinese\n",
              "3  00214f311d5d2247d5dfe4fe24b2303d          bluetick\n",
              "4  0021f9ceb3235effd7fcde7f7538ed62  golden_retriever"
            ],
            "text/html": [
              "\n",
              "  <div id=\"df-00b1c374-f103-4886-ab2b-2d4a149a7687\">\n",
              "    <div class=\"colab-df-container\">\n",
              "      <div>\n",
              "<style scoped>\n",
              "    .dataframe tbody tr th:only-of-type {\n",
              "        vertical-align: middle;\n",
              "    }\n",
              "\n",
              "    .dataframe tbody tr th {\n",
              "        vertical-align: top;\n",
              "    }\n",
              "\n",
              "    .dataframe thead th {\n",
              "        text-align: right;\n",
              "    }\n",
              "</style>\n",
              "<table border=\"1\" class=\"dataframe\">\n",
              "  <thead>\n",
              "    <tr style=\"text-align: right;\">\n",
              "      <th></th>\n",
              "      <th>id</th>\n",
              "      <th>breed</th>\n",
              "    </tr>\n",
              "  </thead>\n",
              "  <tbody>\n",
              "    <tr>\n",
              "      <th>0</th>\n",
              "      <td>000bec180eb18c7604dcecc8fe0dba07</td>\n",
              "      <td>boston_bull</td>\n",
              "    </tr>\n",
              "    <tr>\n",
              "      <th>1</th>\n",
              "      <td>001513dfcb2ffafc82cccf4d8bbaba97</td>\n",
              "      <td>dingo</td>\n",
              "    </tr>\n",
              "    <tr>\n",
              "      <th>2</th>\n",
              "      <td>001cdf01b096e06d78e9e5112d419397</td>\n",
              "      <td>pekinese</td>\n",
              "    </tr>\n",
              "    <tr>\n",
              "      <th>3</th>\n",
              "      <td>00214f311d5d2247d5dfe4fe24b2303d</td>\n",
              "      <td>bluetick</td>\n",
              "    </tr>\n",
              "    <tr>\n",
              "      <th>4</th>\n",
              "      <td>0021f9ceb3235effd7fcde7f7538ed62</td>\n",
              "      <td>golden_retriever</td>\n",
              "    </tr>\n",
              "  </tbody>\n",
              "</table>\n",
              "</div>\n",
              "      <button class=\"colab-df-convert\" onclick=\"convertToInteractive('df-00b1c374-f103-4886-ab2b-2d4a149a7687')\"\n",
              "              title=\"Convert this dataframe to an interactive table.\"\n",
              "              style=\"display:none;\">\n",
              "        \n",
              "  <svg xmlns=\"http://www.w3.org/2000/svg\" height=\"24px\"viewBox=\"0 0 24 24\"\n",
              "       width=\"24px\">\n",
              "    <path d=\"M0 0h24v24H0V0z\" fill=\"none\"/>\n",
              "    <path d=\"M18.56 5.44l.94 2.06.94-2.06 2.06-.94-2.06-.94-.94-2.06-.94 2.06-2.06.94zm-11 1L8.5 8.5l.94-2.06 2.06-.94-2.06-.94L8.5 2.5l-.94 2.06-2.06.94zm10 10l.94 2.06.94-2.06 2.06-.94-2.06-.94-.94-2.06-.94 2.06-2.06.94z\"/><path d=\"M17.41 7.96l-1.37-1.37c-.4-.4-.92-.59-1.43-.59-.52 0-1.04.2-1.43.59L10.3 9.45l-7.72 7.72c-.78.78-.78 2.05 0 2.83L4 21.41c.39.39.9.59 1.41.59.51 0 1.02-.2 1.41-.59l7.78-7.78 2.81-2.81c.8-.78.8-2.07 0-2.86zM5.41 20L4 18.59l7.72-7.72 1.47 1.35L5.41 20z\"/>\n",
              "  </svg>\n",
              "      </button>\n",
              "      \n",
              "  <style>\n",
              "    .colab-df-container {\n",
              "      display:flex;\n",
              "      flex-wrap:wrap;\n",
              "      gap: 12px;\n",
              "    }\n",
              "\n",
              "    .colab-df-convert {\n",
              "      background-color: #E8F0FE;\n",
              "      border: none;\n",
              "      border-radius: 50%;\n",
              "      cursor: pointer;\n",
              "      display: none;\n",
              "      fill: #1967D2;\n",
              "      height: 32px;\n",
              "      padding: 0 0 0 0;\n",
              "      width: 32px;\n",
              "    }\n",
              "\n",
              "    .colab-df-convert:hover {\n",
              "      background-color: #E2EBFA;\n",
              "      box-shadow: 0px 1px 2px rgba(60, 64, 67, 0.3), 0px 1px 3px 1px rgba(60, 64, 67, 0.15);\n",
              "      fill: #174EA6;\n",
              "    }\n",
              "\n",
              "    [theme=dark] .colab-df-convert {\n",
              "      background-color: #3B4455;\n",
              "      fill: #D2E3FC;\n",
              "    }\n",
              "\n",
              "    [theme=dark] .colab-df-convert:hover {\n",
              "      background-color: #434B5C;\n",
              "      box-shadow: 0px 1px 3px 1px rgba(0, 0, 0, 0.15);\n",
              "      filter: drop-shadow(0px 1px 2px rgba(0, 0, 0, 0.3));\n",
              "      fill: #FFFFFF;\n",
              "    }\n",
              "  </style>\n",
              "\n",
              "      <script>\n",
              "        const buttonEl =\n",
              "          document.querySelector('#df-00b1c374-f103-4886-ab2b-2d4a149a7687 button.colab-df-convert');\n",
              "        buttonEl.style.display =\n",
              "          google.colab.kernel.accessAllowed ? 'block' : 'none';\n",
              "\n",
              "        async function convertToInteractive(key) {\n",
              "          const element = document.querySelector('#df-00b1c374-f103-4886-ab2b-2d4a149a7687');\n",
              "          const dataTable =\n",
              "            await google.colab.kernel.invokeFunction('convertToInteractive',\n",
              "                                                     [key], {});\n",
              "          if (!dataTable) return;\n",
              "\n",
              "          const docLinkHtml = 'Like what you see? Visit the ' +\n",
              "            '<a target=\"_blank\" href=https://colab.research.google.com/notebooks/data_table.ipynb>data table notebook</a>'\n",
              "            + ' to learn more about interactive tables.';\n",
              "          element.innerHTML = '';\n",
              "          dataTable['output_type'] = 'display_data';\n",
              "          await google.colab.output.renderOutput(dataTable, element);\n",
              "          const docLink = document.createElement('div');\n",
              "          docLink.innerHTML = docLinkHtml;\n",
              "          element.appendChild(docLink);\n",
              "        }\n",
              "      </script>\n",
              "    </div>\n",
              "  </div>\n",
              "  "
            ]
          },
          "metadata": {},
          "execution_count": 18
        }
      ]
    },
    {
      "cell_type": "markdown",
      "metadata": {
        "id": "K5myFXEQGRPD"
      },
      "source": [
        "Loading the labels data into dataframe and viewing it. Here we analysed that labels contains 10222 rows and 2 columns.  "
      ]
    },
    {
      "cell_type": "code",
      "metadata": {
        "id": "xgoPji7ywRjX",
        "colab": {
          "base_uri": "https://localhost:8080/"
        },
        "outputId": "48a7164e-1bd3-4317-bb9e-5f16964411f1"
      },
      "source": [
        "# Visualize the number of each breeds\n",
        "breeds_all = labels_all[\"breed\"]\n",
        "breed_counts = breeds_all.value_counts()\n",
        "breed_counts.head()"
      ],
      "execution_count": 19,
      "outputs": [
        {
          "output_type": "execute_result",
          "data": {
            "text/plain": [
              "scottish_deerhound      126\n",
              "maltese_dog             117\n",
              "afghan_hound            116\n",
              "entlebucher             115\n",
              "bernese_mountain_dog    114\n",
              "Name: breed, dtype: int64"
            ]
          },
          "metadata": {},
          "execution_count": 19
        }
      ]
    },
    {
      "cell_type": "code",
      "metadata": {
        "id": "2J7x-UVxwVs6",
        "colab": {
          "base_uri": "https://localhost:8080/",
          "height": 206
        },
        "outputId": "7e35b880-a09a-445f-f740-6279eb5cc9ad"
      },
      "source": [
        "# Selecting first 3 breeds (Limitation due to computation power)\n",
        "CLASS_NAMES = ['scottish_deerhound','maltese_dog','bernese_mountain_dog']\n",
        "labels = labels_all[(labels_all['breed'].isin(CLASS_NAMES))]\n",
        "labels = labels.reset_index()\n",
        "labels.head()"
      ],
      "execution_count": 20,
      "outputs": [
        {
          "output_type": "execute_result",
          "data": {
            "text/plain": [
              "   index                                id                 breed\n",
              "0      9  0042188c895a2f14ef64a918ed9c7b64    scottish_deerhound\n",
              "1     12  00693b8bc2470375cc744a6391d397ec           maltese_dog\n",
              "2     79  01e787576c003930f96c966f9c3e1d44    scottish_deerhound\n",
              "3     90  022b34fd8734b39995a9f38a4f3e7b6b           maltese_dog\n",
              "4    118  02d54f0dfb40038765e838459ae8c956  bernese_mountain_dog"
            ],
            "text/html": [
              "\n",
              "  <div id=\"df-909da405-1d3a-40aa-831a-1585ac83e089\">\n",
              "    <div class=\"colab-df-container\">\n",
              "      <div>\n",
              "<style scoped>\n",
              "    .dataframe tbody tr th:only-of-type {\n",
              "        vertical-align: middle;\n",
              "    }\n",
              "\n",
              "    .dataframe tbody tr th {\n",
              "        vertical-align: top;\n",
              "    }\n",
              "\n",
              "    .dataframe thead th {\n",
              "        text-align: right;\n",
              "    }\n",
              "</style>\n",
              "<table border=\"1\" class=\"dataframe\">\n",
              "  <thead>\n",
              "    <tr style=\"text-align: right;\">\n",
              "      <th></th>\n",
              "      <th>index</th>\n",
              "      <th>id</th>\n",
              "      <th>breed</th>\n",
              "    </tr>\n",
              "  </thead>\n",
              "  <tbody>\n",
              "    <tr>\n",
              "      <th>0</th>\n",
              "      <td>9</td>\n",
              "      <td>0042188c895a2f14ef64a918ed9c7b64</td>\n",
              "      <td>scottish_deerhound</td>\n",
              "    </tr>\n",
              "    <tr>\n",
              "      <th>1</th>\n",
              "      <td>12</td>\n",
              "      <td>00693b8bc2470375cc744a6391d397ec</td>\n",
              "      <td>maltese_dog</td>\n",
              "    </tr>\n",
              "    <tr>\n",
              "      <th>2</th>\n",
              "      <td>79</td>\n",
              "      <td>01e787576c003930f96c966f9c3e1d44</td>\n",
              "      <td>scottish_deerhound</td>\n",
              "    </tr>\n",
              "    <tr>\n",
              "      <th>3</th>\n",
              "      <td>90</td>\n",
              "      <td>022b34fd8734b39995a9f38a4f3e7b6b</td>\n",
              "      <td>maltese_dog</td>\n",
              "    </tr>\n",
              "    <tr>\n",
              "      <th>4</th>\n",
              "      <td>118</td>\n",
              "      <td>02d54f0dfb40038765e838459ae8c956</td>\n",
              "      <td>bernese_mountain_dog</td>\n",
              "    </tr>\n",
              "  </tbody>\n",
              "</table>\n",
              "</div>\n",
              "      <button class=\"colab-df-convert\" onclick=\"convertToInteractive('df-909da405-1d3a-40aa-831a-1585ac83e089')\"\n",
              "              title=\"Convert this dataframe to an interactive table.\"\n",
              "              style=\"display:none;\">\n",
              "        \n",
              "  <svg xmlns=\"http://www.w3.org/2000/svg\" height=\"24px\"viewBox=\"0 0 24 24\"\n",
              "       width=\"24px\">\n",
              "    <path d=\"M0 0h24v24H0V0z\" fill=\"none\"/>\n",
              "    <path d=\"M18.56 5.44l.94 2.06.94-2.06 2.06-.94-2.06-.94-.94-2.06-.94 2.06-2.06.94zm-11 1L8.5 8.5l.94-2.06 2.06-.94-2.06-.94L8.5 2.5l-.94 2.06-2.06.94zm10 10l.94 2.06.94-2.06 2.06-.94-2.06-.94-.94-2.06-.94 2.06-2.06.94z\"/><path d=\"M17.41 7.96l-1.37-1.37c-.4-.4-.92-.59-1.43-.59-.52 0-1.04.2-1.43.59L10.3 9.45l-7.72 7.72c-.78.78-.78 2.05 0 2.83L4 21.41c.39.39.9.59 1.41.59.51 0 1.02-.2 1.41-.59l7.78-7.78 2.81-2.81c.8-.78.8-2.07 0-2.86zM5.41 20L4 18.59l7.72-7.72 1.47 1.35L5.41 20z\"/>\n",
              "  </svg>\n",
              "      </button>\n",
              "      \n",
              "  <style>\n",
              "    .colab-df-container {\n",
              "      display:flex;\n",
              "      flex-wrap:wrap;\n",
              "      gap: 12px;\n",
              "    }\n",
              "\n",
              "    .colab-df-convert {\n",
              "      background-color: #E8F0FE;\n",
              "      border: none;\n",
              "      border-radius: 50%;\n",
              "      cursor: pointer;\n",
              "      display: none;\n",
              "      fill: #1967D2;\n",
              "      height: 32px;\n",
              "      padding: 0 0 0 0;\n",
              "      width: 32px;\n",
              "    }\n",
              "\n",
              "    .colab-df-convert:hover {\n",
              "      background-color: #E2EBFA;\n",
              "      box-shadow: 0px 1px 2px rgba(60, 64, 67, 0.3), 0px 1px 3px 1px rgba(60, 64, 67, 0.15);\n",
              "      fill: #174EA6;\n",
              "    }\n",
              "\n",
              "    [theme=dark] .colab-df-convert {\n",
              "      background-color: #3B4455;\n",
              "      fill: #D2E3FC;\n",
              "    }\n",
              "\n",
              "    [theme=dark] .colab-df-convert:hover {\n",
              "      background-color: #434B5C;\n",
              "      box-shadow: 0px 1px 3px 1px rgba(0, 0, 0, 0.15);\n",
              "      filter: drop-shadow(0px 1px 2px rgba(0, 0, 0, 0.3));\n",
              "      fill: #FFFFFF;\n",
              "    }\n",
              "  </style>\n",
              "\n",
              "      <script>\n",
              "        const buttonEl =\n",
              "          document.querySelector('#df-909da405-1d3a-40aa-831a-1585ac83e089 button.colab-df-convert');\n",
              "        buttonEl.style.display =\n",
              "          google.colab.kernel.accessAllowed ? 'block' : 'none';\n",
              "\n",
              "        async function convertToInteractive(key) {\n",
              "          const element = document.querySelector('#df-909da405-1d3a-40aa-831a-1585ac83e089');\n",
              "          const dataTable =\n",
              "            await google.colab.kernel.invokeFunction('convertToInteractive',\n",
              "                                                     [key], {});\n",
              "          if (!dataTable) return;\n",
              "\n",
              "          const docLinkHtml = 'Like what you see? Visit the ' +\n",
              "            '<a target=\"_blank\" href=https://colab.research.google.com/notebooks/data_table.ipynb>data table notebook</a>'\n",
              "            + ' to learn more about interactive tables.';\n",
              "          element.innerHTML = '';\n",
              "          dataTable['output_type'] = 'display_data';\n",
              "          await google.colab.output.renderOutput(dataTable, element);\n",
              "          const docLink = document.createElement('div');\n",
              "          docLink.innerHTML = docLinkHtml;\n",
              "          element.appendChild(docLink);\n",
              "        }\n",
              "      </script>\n",
              "    </div>\n",
              "  </div>\n",
              "  "
            ]
          },
          "metadata": {},
          "execution_count": 20
        }
      ]
    },
    {
      "cell_type": "code",
      "metadata": {
        "id": "vR0_yYY9w_y8",
        "colab": {
          "base_uri": "https://localhost:8080/"
        },
        "outputId": "b5101691-0d67-4499-b4bd-0f5ea9375abe"
      },
      "source": [
        "# Creating numpy matrix with zeros\n",
        "X_data = np.zeros((len(labels), 224, 224, 3), dtype='float32')\n",
        "# One hot encoding\n",
        "Y_data = label_binarize(labels['breed'], classes = CLASS_NAMES)\n",
        "\n",
        "# Reading and converting image to numpy array and normalizing dataset\n",
        "for i in tqdm(range(len(labels))):\n",
        "    img = image.load_img('dog_dataset/train/%s.jpg' % labels['id'][i], target_size=(224, 224))\n",
        "    img = image.img_to_array(img)\n",
        "    x = np.expand_dims(img.copy(), axis=0)\n",
        "    X_data[i] = x / 255.0\n",
        "    \n",
        "# Printing train image and one hot encode shape & size\n",
        "print('\\nTrain Images shape: ',X_data.shape,' size: {:,}'.format(X_data.size))\n",
        "print('One-hot encoded output shape: ',Y_data.shape,' size: {:,}'.format(Y_data.size))"
      ],
      "execution_count": 21,
      "outputs": [
        {
          "output_type": "stream",
          "name": "stderr",
          "text": [
            "100%|██████████| 357/357 [00:02<00:00, 135.93it/s]"
          ]
        },
        {
          "output_type": "stream",
          "name": "stdout",
          "text": [
            "\n",
            "Train Images shape:  (357, 224, 224, 3)  size: 53,738,496\n",
            "One-hot encoded output shape:  (357, 3)  size: 1,071\n"
          ]
        },
        {
          "output_type": "stream",
          "name": "stderr",
          "text": [
            "\n"
          ]
        }
      ]
    },
    {
      "cell_type": "markdown",
      "metadata": {
        "id": "md38GlW9H0hM"
      },
      "source": [
        "As we are working with the classification dataset first we need to one hot encode the target value i.e. the classes. After that we will read images and convert them into numpy array and finally normalizing the array."
      ]
    },
    {
      "cell_type": "code",
      "metadata": {
        "id": "3Xvd5r4MxcLJ",
        "colab": {
          "base_uri": "https://localhost:8080/"
        },
        "outputId": "2e1a6acb-be25-4cc4-bdd8-a18fb01a8e2c"
      },
      "source": [
        "# Building the Model\n",
        "model = Sequential()\n",
        "\n",
        "model.add(Conv2D(filters = 64, kernel_size = (5,5), activation ='relu', input_shape = (224,224,3)))\n",
        "model.add(MaxPool2D(pool_size=(2,2)))\n",
        "\n",
        "model.add(Conv2D(filters = 32, kernel_size = (3,3), activation ='relu', kernel_regularizer = 'l2'))\n",
        "model.add(MaxPool2D(pool_size=(2,2)))\n",
        "\n",
        "model.add(Conv2D(filters = 16, kernel_size = (7,7), activation ='relu', kernel_regularizer = 'l2'))\n",
        "model.add(MaxPool2D(pool_size=(2,2)))\n",
        "\n",
        "model.add(Conv2D(filters = 8, kernel_size = (5,5), activation ='relu', kernel_regularizer = 'l2'))\n",
        "model.add(MaxPool2D(pool_size=(2,2)))\n",
        "\n",
        "model.add(Flatten())\n",
        "model.add(Dense(128, activation = \"relu\", kernel_regularizer = 'l2'))\n",
        "model.add(Dense(64, activation = \"relu\", kernel_regularizer = 'l2'))\n",
        "model.add(Dense(len(CLASS_NAMES), activation = \"softmax\"))\n",
        "\n",
        "model.compile(loss = 'categorical_crossentropy', optimizer = Adam(0.0001),metrics=['accuracy'])\n",
        "\n",
        "model.summary()"
      ],
      "execution_count": 22,
      "outputs": [
        {
          "output_type": "stream",
          "name": "stdout",
          "text": [
            "Model: \"sequential\"\n",
            "_________________________________________________________________\n",
            " Layer (type)                Output Shape              Param #   \n",
            "=================================================================\n",
            " conv2d (Conv2D)             (None, 220, 220, 64)      4864      \n",
            "                                                                 \n",
            " max_pooling2d (MaxPooling2D  (None, 110, 110, 64)     0         \n",
            " )                                                               \n",
            "                                                                 \n",
            " conv2d_1 (Conv2D)           (None, 108, 108, 32)      18464     \n",
            "                                                                 \n",
            " max_pooling2d_1 (MaxPooling  (None, 54, 54, 32)       0         \n",
            " 2D)                                                             \n",
            "                                                                 \n",
            " conv2d_2 (Conv2D)           (None, 48, 48, 16)        25104     \n",
            "                                                                 \n",
            " max_pooling2d_2 (MaxPooling  (None, 24, 24, 16)       0         \n",
            " 2D)                                                             \n",
            "                                                                 \n",
            " conv2d_3 (Conv2D)           (None, 20, 20, 8)         3208      \n",
            "                                                                 \n",
            " max_pooling2d_3 (MaxPooling  (None, 10, 10, 8)        0         \n",
            " 2D)                                                             \n",
            "                                                                 \n",
            " flatten (Flatten)           (None, 800)               0         \n",
            "                                                                 \n",
            " dense (Dense)               (None, 128)               102528    \n",
            "                                                                 \n",
            " dense_1 (Dense)             (None, 64)                8256      \n",
            "                                                                 \n",
            " dense_2 (Dense)             (None, 3)                 195       \n",
            "                                                                 \n",
            "=================================================================\n",
            "Total params: 162,619\n",
            "Trainable params: 162,619\n",
            "Non-trainable params: 0\n",
            "_________________________________________________________________\n"
          ]
        }
      ]
    },
    {
      "cell_type": "markdown",
      "metadata": {
        "id": "f3KpqhclJEi-"
      },
      "source": [
        "Next we will create a network architecture for the model. We have used different types of layers according to their features namely Conv_2d (It is used to create a convolutional kernel that is convolved with the input layer to produce the output tensor), max_pooling2d (It is a downsampling technique which takes out the maximum value over the window defined by poolsize), flatten (It flattens the input and creates a 1D output), Dense (Dense layer produce the output as the dot product of input and kernel).\n"
      ]
    },
    {
      "cell_type": "markdown",
      "metadata": {
        "id": "uFqLiTKqMXWM"
      },
      "source": [
        "After defining the network architecture we found out the total parameters as 162,619."
      ]
    },
    {
      "cell_type": "code",
      "metadata": {
        "id": "z2OwiYRrxxJ_"
      },
      "source": [
        "# Splitting the data set into training and testing data sets\n",
        "X_train_and_val, X_test, Y_train_and_val, Y_test = train_test_split(X_data, Y_data, test_size = 0.1)\n",
        "# Splitting the training data set into training and validation data sets\n",
        "X_train, X_val, Y_train, Y_val = train_test_split(X_train_and_val, Y_train_and_val, test_size = 0.2)"
      ],
      "execution_count": 23,
      "outputs": []
    },
    {
      "cell_type": "markdown",
      "metadata": {
        "id": "pwYpekxrJZRr"
      },
      "source": [
        "After defining the network architecture we will start with splitting the test and train data then dividing train data in train and validation data. "
      ]
    },
    {
      "cell_type": "code",
      "metadata": {
        "id": "Kzq2hLsGyFTr",
        "colab": {
          "base_uri": "https://localhost:8080/"
        },
        "outputId": "eac01f95-fe9a-49cf-97f5-e6264f32472c"
      },
      "source": [
        "# Training the model\n",
        "epochs = 100\n",
        "batch_size = 128\n",
        "\n",
        "history = model.fit(X_train, Y_train, batch_size = batch_size, epochs = epochs, \n",
        "                    validation_data = (X_val, Y_val))"
      ],
      "execution_count": 24,
      "outputs": [
        {
          "output_type": "stream",
          "name": "stdout",
          "text": [
            "Epoch 1/100\n",
            "2/2 [==============================] - 20s 2s/step - loss: 4.9223 - accuracy: 0.2969 - val_loss: 4.8986 - val_accuracy: 0.2769\n",
            "Epoch 2/100\n",
            "2/2 [==============================] - 1s 452ms/step - loss: 4.8895 - accuracy: 0.3711 - val_loss: 4.8786 - val_accuracy: 0.2769\n",
            "Epoch 3/100\n",
            "2/2 [==============================] - 1s 408ms/step - loss: 4.8601 - accuracy: 0.3477 - val_loss: 4.8583 - val_accuracy: 0.2769\n",
            "Epoch 4/100\n",
            "2/2 [==============================] - 1s 469ms/step - loss: 4.8325 - accuracy: 0.3594 - val_loss: 4.8370 - val_accuracy: 0.3077\n",
            "Epoch 5/100\n",
            "2/2 [==============================] - 1s 378ms/step - loss: 4.8059 - accuracy: 0.3906 - val_loss: 4.8164 - val_accuracy: 0.3231\n",
            "Epoch 6/100\n",
            "2/2 [==============================] - 1s 380ms/step - loss: 4.7789 - accuracy: 0.4102 - val_loss: 4.7943 - val_accuracy: 0.3692\n",
            "Epoch 7/100\n",
            "2/2 [==============================] - 1s 382ms/step - loss: 4.7523 - accuracy: 0.4531 - val_loss: 4.7715 - val_accuracy: 0.4000\n",
            "Epoch 8/100\n",
            "2/2 [==============================] - 1s 383ms/step - loss: 4.7248 - accuracy: 0.5078 - val_loss: 4.7483 - val_accuracy: 0.4154\n",
            "Epoch 9/100\n",
            "2/2 [==============================] - 1s 383ms/step - loss: 4.6966 - accuracy: 0.5195 - val_loss: 4.7182 - val_accuracy: 0.4308\n",
            "Epoch 10/100\n",
            "2/2 [==============================] - 1s 383ms/step - loss: 4.6678 - accuracy: 0.5039 - val_loss: 4.6854 - val_accuracy: 0.4462\n",
            "Epoch 11/100\n",
            "2/2 [==============================] - 1s 382ms/step - loss: 4.6379 - accuracy: 0.5156 - val_loss: 4.6533 - val_accuracy: 0.4615\n",
            "Epoch 12/100\n",
            "2/2 [==============================] - 1s 382ms/step - loss: 4.6077 - accuracy: 0.5547 - val_loss: 4.6188 - val_accuracy: 0.4615\n",
            "Epoch 13/100\n",
            "2/2 [==============================] - 1s 385ms/step - loss: 4.5740 - accuracy: 0.5742 - val_loss: 4.5859 - val_accuracy: 0.4923\n",
            "Epoch 14/100\n",
            "2/2 [==============================] - 1s 381ms/step - loss: 4.5397 - accuracy: 0.5664 - val_loss: 4.5469 - val_accuracy: 0.5231\n",
            "Epoch 15/100\n",
            "2/2 [==============================] - 1s 381ms/step - loss: 4.5047 - accuracy: 0.5859 - val_loss: 4.5073 - val_accuracy: 0.6000\n",
            "Epoch 16/100\n",
            "2/2 [==============================] - 1s 388ms/step - loss: 4.4670 - accuracy: 0.6133 - val_loss: 4.4561 - val_accuracy: 0.6000\n",
            "Epoch 17/100\n",
            "2/2 [==============================] - 1s 384ms/step - loss: 4.4267 - accuracy: 0.6250 - val_loss: 4.4233 - val_accuracy: 0.6308\n",
            "Epoch 18/100\n",
            "2/2 [==============================] - 1s 384ms/step - loss: 4.3891 - accuracy: 0.5938 - val_loss: 4.3846 - val_accuracy: 0.6154\n",
            "Epoch 19/100\n",
            "2/2 [==============================] - 1s 384ms/step - loss: 4.3501 - accuracy: 0.6055 - val_loss: 4.3277 - val_accuracy: 0.6462\n",
            "Epoch 20/100\n",
            "2/2 [==============================] - 1s 385ms/step - loss: 4.3098 - accuracy: 0.6172 - val_loss: 4.3138 - val_accuracy: 0.6308\n",
            "Epoch 21/100\n",
            "2/2 [==============================] - 1s 387ms/step - loss: 4.2686 - accuracy: 0.6289 - val_loss: 4.2571 - val_accuracy: 0.6462\n",
            "Epoch 22/100\n",
            "2/2 [==============================] - 1s 383ms/step - loss: 4.2291 - accuracy: 0.6289 - val_loss: 4.2220 - val_accuracy: 0.6769\n",
            "Epoch 23/100\n",
            "2/2 [==============================] - 1s 385ms/step - loss: 4.1902 - accuracy: 0.6484 - val_loss: 4.2040 - val_accuracy: 0.6615\n",
            "Epoch 24/100\n",
            "2/2 [==============================] - 1s 454ms/step - loss: 4.1564 - accuracy: 0.6641 - val_loss: 4.1854 - val_accuracy: 0.6462\n",
            "Epoch 25/100\n",
            "2/2 [==============================] - 1s 386ms/step - loss: 4.1184 - accuracy: 0.6602 - val_loss: 4.1299 - val_accuracy: 0.6769\n",
            "Epoch 26/100\n",
            "2/2 [==============================] - 1s 390ms/step - loss: 4.0861 - accuracy: 0.6758 - val_loss: 4.0995 - val_accuracy: 0.6923\n",
            "Epoch 27/100\n",
            "2/2 [==============================] - 1s 387ms/step - loss: 4.0470 - accuracy: 0.6797 - val_loss: 4.0939 - val_accuracy: 0.6923\n",
            "Epoch 28/100\n",
            "2/2 [==============================] - 1s 450ms/step - loss: 4.0193 - accuracy: 0.7188 - val_loss: 4.0482 - val_accuracy: 0.7231\n",
            "Epoch 29/100\n",
            "2/2 [==============================] - 1s 383ms/step - loss: 3.9821 - accuracy: 0.7383 - val_loss: 4.0435 - val_accuracy: 0.7231\n",
            "Epoch 30/100\n",
            "2/2 [==============================] - 1s 391ms/step - loss: 3.9563 - accuracy: 0.7344 - val_loss: 3.9847 - val_accuracy: 0.7077\n",
            "Epoch 31/100\n",
            "2/2 [==============================] - 1s 388ms/step - loss: 3.9195 - accuracy: 0.7422 - val_loss: 3.9748 - val_accuracy: 0.7077\n",
            "Epoch 32/100\n",
            "2/2 [==============================] - 1s 387ms/step - loss: 3.8952 - accuracy: 0.7422 - val_loss: 3.9674 - val_accuracy: 0.7231\n",
            "Epoch 33/100\n",
            "2/2 [==============================] - 1s 387ms/step - loss: 3.8583 - accuracy: 0.7773 - val_loss: 3.9244 - val_accuracy: 0.7385\n",
            "Epoch 34/100\n",
            "2/2 [==============================] - 1s 386ms/step - loss: 3.8273 - accuracy: 0.7773 - val_loss: 3.9231 - val_accuracy: 0.6923\n",
            "Epoch 35/100\n",
            "2/2 [==============================] - 1s 382ms/step - loss: 3.7989 - accuracy: 0.7852 - val_loss: 3.9046 - val_accuracy: 0.7077\n",
            "Epoch 36/100\n",
            "2/2 [==============================] - 1s 381ms/step - loss: 3.7813 - accuracy: 0.7734 - val_loss: 3.8937 - val_accuracy: 0.7077\n",
            "Epoch 37/100\n",
            "2/2 [==============================] - 1s 387ms/step - loss: 3.7440 - accuracy: 0.8242 - val_loss: 3.8813 - val_accuracy: 0.7231\n",
            "Epoch 38/100\n",
            "2/2 [==============================] - 1s 386ms/step - loss: 3.7190 - accuracy: 0.8281 - val_loss: 3.8682 - val_accuracy: 0.7231\n",
            "Epoch 39/100\n",
            "2/2 [==============================] - 1s 386ms/step - loss: 3.6980 - accuracy: 0.8203 - val_loss: 3.8346 - val_accuracy: 0.7385\n",
            "Epoch 40/100\n",
            "2/2 [==============================] - 1s 390ms/step - loss: 3.6884 - accuracy: 0.8008 - val_loss: 3.8239 - val_accuracy: 0.7538\n",
            "Epoch 41/100\n",
            "2/2 [==============================] - 1s 390ms/step - loss: 3.6702 - accuracy: 0.8125 - val_loss: 3.8558 - val_accuracy: 0.7077\n",
            "Epoch 42/100\n",
            "2/2 [==============================] - 1s 388ms/step - loss: 3.6451 - accuracy: 0.8281 - val_loss: 3.8578 - val_accuracy: 0.6923\n",
            "Epoch 43/100\n",
            "2/2 [==============================] - 1s 387ms/step - loss: 3.6242 - accuracy: 0.8398 - val_loss: 3.7900 - val_accuracy: 0.7231\n",
            "Epoch 44/100\n",
            "2/2 [==============================] - 1s 387ms/step - loss: 3.5948 - accuracy: 0.8242 - val_loss: 3.7980 - val_accuracy: 0.7538\n",
            "Epoch 45/100\n",
            "2/2 [==============================] - 1s 386ms/step - loss: 3.5934 - accuracy: 0.8438 - val_loss: 3.7815 - val_accuracy: 0.7385\n",
            "Epoch 46/100\n",
            "2/2 [==============================] - 1s 388ms/step - loss: 3.5704 - accuracy: 0.8398 - val_loss: 3.7847 - val_accuracy: 0.7538\n",
            "Epoch 47/100\n",
            "2/2 [==============================] - 1s 388ms/step - loss: 3.5418 - accuracy: 0.8633 - val_loss: 3.7478 - val_accuracy: 0.7692\n",
            "Epoch 48/100\n",
            "2/2 [==============================] - 1s 387ms/step - loss: 3.5373 - accuracy: 0.8398 - val_loss: 3.7264 - val_accuracy: 0.7538\n",
            "Epoch 49/100\n",
            "2/2 [==============================] - 1s 387ms/step - loss: 3.5024 - accuracy: 0.8633 - val_loss: 3.7678 - val_accuracy: 0.7538\n",
            "Epoch 50/100\n",
            "2/2 [==============================] - 1s 389ms/step - loss: 3.4976 - accuracy: 0.8750 - val_loss: 3.7132 - val_accuracy: 0.7692\n",
            "Epoch 51/100\n",
            "2/2 [==============================] - 1s 387ms/step - loss: 3.4699 - accuracy: 0.8750 - val_loss: 3.7017 - val_accuracy: 0.7692\n",
            "Epoch 52/100\n",
            "2/2 [==============================] - 1s 386ms/step - loss: 3.4798 - accuracy: 0.8516 - val_loss: 3.7000 - val_accuracy: 0.7692\n",
            "Epoch 53/100\n",
            "2/2 [==============================] - 1s 390ms/step - loss: 3.4702 - accuracy: 0.8555 - val_loss: 3.6939 - val_accuracy: 0.7385\n",
            "Epoch 54/100\n",
            "2/2 [==============================] - 1s 388ms/step - loss: 3.4342 - accuracy: 0.8828 - val_loss: 3.7205 - val_accuracy: 0.7538\n",
            "Epoch 55/100\n",
            "2/2 [==============================] - 1s 392ms/step - loss: 3.4304 - accuracy: 0.8711 - val_loss: 3.6783 - val_accuracy: 0.7692\n",
            "Epoch 56/100\n",
            "2/2 [==============================] - 1s 387ms/step - loss: 3.4067 - accuracy: 0.8750 - val_loss: 3.6536 - val_accuracy: 0.8000\n",
            "Epoch 57/100\n",
            "2/2 [==============================] - 1s 386ms/step - loss: 3.3846 - accuracy: 0.8945 - val_loss: 3.6391 - val_accuracy: 0.7538\n",
            "Epoch 58/100\n",
            "2/2 [==============================] - 1s 388ms/step - loss: 3.3605 - accuracy: 0.8906 - val_loss: 3.6615 - val_accuracy: 0.7385\n",
            "Epoch 59/100\n",
            "2/2 [==============================] - 1s 389ms/step - loss: 3.3655 - accuracy: 0.8906 - val_loss: 3.6523 - val_accuracy: 0.7231\n",
            "Epoch 60/100\n",
            "2/2 [==============================] - 1s 450ms/step - loss: 3.3343 - accuracy: 0.9102 - val_loss: 3.6337 - val_accuracy: 0.7538\n",
            "Epoch 61/100\n",
            "2/2 [==============================] - 1s 387ms/step - loss: 3.3219 - accuracy: 0.9062 - val_loss: 3.6321 - val_accuracy: 0.7385\n",
            "Epoch 62/100\n",
            "2/2 [==============================] - 1s 391ms/step - loss: 3.3178 - accuracy: 0.8867 - val_loss: 3.6147 - val_accuracy: 0.7692\n",
            "Epoch 63/100\n",
            "2/2 [==============================] - 1s 397ms/step - loss: 3.2985 - accuracy: 0.9062 - val_loss: 3.6136 - val_accuracy: 0.7385\n",
            "Epoch 64/100\n",
            "2/2 [==============================] - 1s 391ms/step - loss: 3.2869 - accuracy: 0.9102 - val_loss: 3.5954 - val_accuracy: 0.7385\n",
            "Epoch 65/100\n",
            "2/2 [==============================] - 1s 392ms/step - loss: 3.2699 - accuracy: 0.8984 - val_loss: 3.5778 - val_accuracy: 0.7692\n",
            "Epoch 66/100\n",
            "2/2 [==============================] - 1s 408ms/step - loss: 3.2623 - accuracy: 0.9219 - val_loss: 3.6149 - val_accuracy: 0.7692\n",
            "Epoch 67/100\n",
            "2/2 [==============================] - 1s 391ms/step - loss: 3.2538 - accuracy: 0.9023 - val_loss: 3.5757 - val_accuracy: 0.7538\n",
            "Epoch 68/100\n",
            "2/2 [==============================] - 1s 459ms/step - loss: 3.2295 - accuracy: 0.9180 - val_loss: 3.5635 - val_accuracy: 0.7385\n",
            "Epoch 69/100\n",
            "2/2 [==============================] - 1s 392ms/step - loss: 3.2147 - accuracy: 0.9414 - val_loss: 3.5848 - val_accuracy: 0.7077\n",
            "Epoch 70/100\n",
            "2/2 [==============================] - 1s 390ms/step - loss: 3.2043 - accuracy: 0.9219 - val_loss: 3.5738 - val_accuracy: 0.7385\n",
            "Epoch 71/100\n",
            "2/2 [==============================] - 1s 389ms/step - loss: 3.1896 - accuracy: 0.9297 - val_loss: 3.5465 - val_accuracy: 0.8000\n",
            "Epoch 72/100\n",
            "2/2 [==============================] - 1s 399ms/step - loss: 3.1757 - accuracy: 0.9453 - val_loss: 3.5261 - val_accuracy: 0.7692\n",
            "Epoch 73/100\n",
            "2/2 [==============================] - 1s 391ms/step - loss: 3.1652 - accuracy: 0.9414 - val_loss: 3.5625 - val_accuracy: 0.7231\n",
            "Epoch 74/100\n",
            "2/2 [==============================] - 1s 392ms/step - loss: 3.1553 - accuracy: 0.9297 - val_loss: 3.5473 - val_accuracy: 0.7538\n",
            "Epoch 75/100\n",
            "2/2 [==============================] - 1s 390ms/step - loss: 3.1349 - accuracy: 0.9375 - val_loss: 3.5066 - val_accuracy: 0.7692\n",
            "Epoch 76/100\n",
            "2/2 [==============================] - 1s 390ms/step - loss: 3.1360 - accuracy: 0.9336 - val_loss: 3.5162 - val_accuracy: 0.7538\n",
            "Epoch 77/100\n",
            "2/2 [==============================] - 1s 392ms/step - loss: 3.1143 - accuracy: 0.9414 - val_loss: 3.5395 - val_accuracy: 0.7692\n",
            "Epoch 78/100\n",
            "2/2 [==============================] - 1s 392ms/step - loss: 3.1060 - accuracy: 0.9492 - val_loss: 3.5073 - val_accuracy: 0.7538\n",
            "Epoch 79/100\n",
            "2/2 [==============================] - 1s 393ms/step - loss: 3.1056 - accuracy: 0.9219 - val_loss: 3.4842 - val_accuracy: 0.7538\n",
            "Epoch 80/100\n",
            "2/2 [==============================] - 1s 390ms/step - loss: 3.0844 - accuracy: 0.9375 - val_loss: 3.5383 - val_accuracy: 0.7692\n",
            "Epoch 81/100\n",
            "2/2 [==============================] - 1s 394ms/step - loss: 3.0830 - accuracy: 0.9453 - val_loss: 3.5335 - val_accuracy: 0.7231\n",
            "Epoch 82/100\n",
            "2/2 [==============================] - 1s 396ms/step - loss: 3.0936 - accuracy: 0.9336 - val_loss: 3.4601 - val_accuracy: 0.7538\n",
            "Epoch 83/100\n",
            "2/2 [==============================] - 1s 394ms/step - loss: 3.0529 - accuracy: 0.9453 - val_loss: 3.5020 - val_accuracy: 0.7077\n",
            "Epoch 84/100\n",
            "2/2 [==============================] - 1s 408ms/step - loss: 3.0460 - accuracy: 0.9453 - val_loss: 3.5095 - val_accuracy: 0.7385\n",
            "Epoch 85/100\n",
            "2/2 [==============================] - 1s 458ms/step - loss: 3.0374 - accuracy: 0.9492 - val_loss: 3.4822 - val_accuracy: 0.7538\n",
            "Epoch 86/100\n",
            "2/2 [==============================] - 1s 419ms/step - loss: 3.0168 - accuracy: 0.9570 - val_loss: 3.4746 - val_accuracy: 0.7385\n",
            "Epoch 87/100\n",
            "2/2 [==============================] - 1s 441ms/step - loss: 3.0118 - accuracy: 0.9531 - val_loss: 3.4680 - val_accuracy: 0.7538\n",
            "Epoch 88/100\n",
            "2/2 [==============================] - 1s 396ms/step - loss: 2.9972 - accuracy: 0.9570 - val_loss: 3.4998 - val_accuracy: 0.7538\n",
            "Epoch 89/100\n",
            "2/2 [==============================] - 1s 394ms/step - loss: 2.9869 - accuracy: 0.9570 - val_loss: 3.4450 - val_accuracy: 0.7692\n",
            "Epoch 90/100\n",
            "2/2 [==============================] - 1s 396ms/step - loss: 2.9746 - accuracy: 0.9492 - val_loss: 3.4472 - val_accuracy: 0.7538\n",
            "Epoch 91/100\n",
            "2/2 [==============================] - 1s 396ms/step - loss: 2.9625 - accuracy: 0.9570 - val_loss: 3.4777 - val_accuracy: 0.7538\n",
            "Epoch 92/100\n",
            "2/2 [==============================] - 1s 394ms/step - loss: 2.9539 - accuracy: 0.9609 - val_loss: 3.4599 - val_accuracy: 0.7538\n",
            "Epoch 93/100\n",
            "2/2 [==============================] - 1s 395ms/step - loss: 2.9444 - accuracy: 0.9609 - val_loss: 3.4356 - val_accuracy: 0.7538\n",
            "Epoch 94/100\n",
            "2/2 [==============================] - 1s 400ms/step - loss: 2.9325 - accuracy: 0.9570 - val_loss: 3.4455 - val_accuracy: 0.7692\n",
            "Epoch 95/100\n",
            "2/2 [==============================] - 1s 397ms/step - loss: 2.9323 - accuracy: 0.9570 - val_loss: 3.4571 - val_accuracy: 0.7692\n",
            "Epoch 96/100\n",
            "2/2 [==============================] - 1s 395ms/step - loss: 2.9177 - accuracy: 0.9648 - val_loss: 3.4177 - val_accuracy: 0.7538\n",
            "Epoch 97/100\n",
            "2/2 [==============================] - 1s 394ms/step - loss: 2.9048 - accuracy: 0.9570 - val_loss: 3.4320 - val_accuracy: 0.7385\n",
            "Epoch 98/100\n",
            "2/2 [==============================] - 1s 434ms/step - loss: 2.8986 - accuracy: 0.9688 - val_loss: 3.4718 - val_accuracy: 0.7538\n",
            "Epoch 99/100\n",
            "2/2 [==============================] - 1s 489ms/step - loss: 2.8949 - accuracy: 0.9688 - val_loss: 3.4298 - val_accuracy: 0.7538\n",
            "Epoch 100/100\n",
            "2/2 [==============================] - 1s 441ms/step - loss: 2.8826 - accuracy: 0.9688 - val_loss: 3.3731 - val_accuracy: 0.7692\n"
          ]
        }
      ]
    },
    {
      "cell_type": "markdown",
      "metadata": {
        "id": "YSFnRyfKJv4a"
      },
      "source": [
        "Now we will train our model on 100 epochs and a batch size of 128. You can try using more number of epochs to increase accuracy. During each epochs we can see how the model is performing by viewing the training and validation accuracy."
      ]
    },
    {
      "cell_type": "code",
      "metadata": {
        "id": "BvK8_JKKyLJJ",
        "colab": {
          "base_uri": "https://localhost:8080/",
          "height": 350
        },
        "outputId": "17ddaf9b-0974-4abb-81c0-c198f8715e86"
      },
      "source": [
        "# Plot the training history\n",
        "plt.figure(figsize=(12, 5))\n",
        "plt.plot(history.history['accuracy'], color='r')\n",
        "plt.plot(history.history['val_accuracy'], color='b')\n",
        "plt.title('Model Accuracy')\n",
        "plt.ylabel('Accuracy')\n",
        "plt.xlabel('Epochs')\n",
        "plt.legend(['train', 'val'])\n",
        "\n",
        "plt.show()"
      ],
      "execution_count": 25,
      "outputs": [
        {
          "output_type": "display_data",
          "data": {
            "text/plain": [
              "<Figure size 864x360 with 1 Axes>"
            ],
            "image/png": "[encoded data removed]"
          },
          "metadata": {
            "needs_background": "light"
          }
        }
      ]
    },
    {
      "cell_type": "code",
      "metadata": {
        "id": "xXpyaiyeykly",
        "colab": {
          "base_uri": "https://localhost:8080/"
        },
        "outputId": "1bc0c386-b40a-4fa5-d24a-fecf8cb152a8"
      },
      "source": [
        "Y_pred = model.predict(X_test)\n",
        "score = model.evaluate(X_test, Y_test)\n",
        "print('Accuracy over the test set: \\n ', round((score[1]*100), 2), '%')"
      ],
      "execution_count": 26,
      "outputs": [
        {
          "output_type": "stream",
          "name": "stdout",
          "text": [
            "2/2 [==============================] - 0s 12ms/step - loss: 3.4611 - accuracy: 0.7222\n",
            "Accuracy over the test set: \n",
            "  72.22 %\n"
          ]
        }
      ]
    },
    {
      "cell_type": "markdown",
      "metadata": {
        "id": "rkbtSrubNj3C"
      },
      "source": [
        "We will use predict function to make predictions using this model also we are finding out the accuracy on the test set."
      ]
    },
    {
      "cell_type": "code",
      "metadata": {
        "id": "nY-jB9t5ylME",
        "colab": {
          "base_uri": "https://localhost:8080/",
          "height": 304
        },
        "outputId": "ef28c391-9364-4bca-c3cf-cac4ed2c5e82"
      },
      "source": [
        "# Plotting image to compare\n",
        "plt.imshow(X_test[1,:,:,:])\n",
        "plt.show()\n",
        "\n",
        "# Finding max value from predition list and comaparing original value vs predicted\n",
        "print(\"Originally : \",labels['breed'][np.argmax(Y_test[1])])\n",
        "print(\"Predicted : \",labels['breed'][np.argmax(Y_pred[1])])"
      ],
      "execution_count": 27,
      "outputs": [
        {
          "output_type": "display_data",
          "data": {
            "text/plain": [
              "<Figure size 432x288 with 1 Axes>"
            ],
            "image/png": "[encoded data removed]"
          },
          "metadata": {
            "needs_background": "light"
          }
        },
        {
          "output_type": "stream",
          "name": "stdout",
          "text": [
            "Originally :  scottish_deerhound\n",
            "Predicted :  scottish_deerhound\n"
          ]
        }
      ]
    },
    {
      "cell_type": "markdown",
      "metadata": {
        "id": "bZgi683JOYcT"
      },
      "source": [
        "Here you can see image with its original and predicted label."
      ]
    },
    {
      "cell_type": "markdown",
      "metadata": {
        "id": "MaAbK0hZPFGF"
      },
      "source": [
        "## Conclusion:"
      ]
    },
    {
      "cell_type": "markdown",
      "metadata": {
        "id": "UItQLYGyPNAO"
      },
      "source": [
        "We started with downloading the dataset creating the model and finding out the predictions using the model. We can optimize different hyper parameters in order to tune this model for a higher accuracy. This model can be used to predict different breeds of dogs which can be further used by different NGO's working on saving animals and for educational purposes also."
      ]
    },
    {
      "cell_type": "code",
      "metadata": {
        "id": "Y9hIc_hzQDoB"
      },
      "source": [],
      "execution_count": 27,
      "outputs": []
    }
  ]
}